{
 "cells": [
  {
   "cell_type": "code",
   "execution_count": 1,
   "id": "b80764c7",
   "metadata": {},
   "outputs": [],
   "source": [
    "'''\n",
    "https://pytorch.org/vision/stable/models.html \n",
    "'''\n",
    "model_list = ['alexnet', 'densenet121', 'densenet201','inception_v3','resnet152',\\\n",
    "'resnet50', 'squeezenet1_0', 'squeezenet1_1', 'vgg11', 'vgg16', 'vgg19','xception'\\\n",
    "'densenet121']\n",
    "\n"
   ]
  },
  {
   "cell_type": "code",
   "execution_count": 7,
   "id": "6e1c3f08",
   "metadata": {},
   "outputs": [
    {
     "data": {
      "text/plain": [
       "'[{\"arch\": \"resnet50\", \"workers\": 1, \"epochs\": 3, \"batch_size\": 1, \"image_size\": 224, \"device\": \"cuda\"}]'"
      ]
     },
     "execution_count": 7,
     "metadata": {},
     "output_type": "execute_result"
    }
   ],
   "source": [
    "import json\n",
    "args_train, args_infer = [] ,[]\n",
    "model_list = ['alexnet', 'vgg16', 'resnet50', 'densenet121', 'inception_v3','squeezenet1_0', \\\n",
    "'resnet152', 'xception']\n",
    "\n",
    "img_size_list = [224]\n",
    "batch_size_list_train = [32]\n",
    "batch_size_list_infer = [1]\n",
    "# training\n",
    "for image_size in img_size_list:\n",
    "    for model in model_list:\n",
    "        for batch_size in batch_size_list_train:\n",
    "            new_args = {'arch': model,'workers': 1, 'epochs': 3, 'batch_size': batch_size, 'image_size':image_size, 'device': 'cuda'}\n",
    "            args_train.append(new_args)\n",
    "\n",
    "# infering            \n",
    "for image_size in img_size_list:\n",
    "    for model in ['resnet50']:\n",
    "        for batch_size in batch_size_list_infer:\n",
    "            new_args = {'arch': model,'workers': 1, 'epochs': 3, 'batch_size': 1, 'image_size':image_size, 'device': 'cuda'}\n",
    "            args_infer.append(new_args)\n",
    "        \n",
    "a = json.dumps(args_train)\n",
    "b= json.dumps(args_infer)\n",
    "b"
   ]
  },
  {
   "cell_type": "code",
   "execution_count": 22,
   "id": "4c3621fe",
   "metadata": {},
   "outputs": [
    {
     "data": {
      "text/plain": [
       "36"
      ]
     },
     "execution_count": 22,
     "metadata": {},
     "output_type": "execute_result"
    }
   ],
   "source": [
    "file = 'config.json'\n",
    "with open(file) as f:\n",
    "    config = json.load(f)\n",
    "args_train, args_infer= config['train'],  config['infer']\n",
    "len(args_train)"
   ]
  },
  {
   "cell_type": "code",
   "execution_count": 26,
   "id": "41ed88ae",
   "metadata": {},
   "outputs": [
    {
     "data": {
      "text/html": [
       "<div>\n",
       "<style scoped>\n",
       "    .dataframe tbody tr th:only-of-type {\n",
       "        vertical-align: middle;\n",
       "    }\n",
       "\n",
       "    .dataframe tbody tr th {\n",
       "        vertical-align: top;\n",
       "    }\n",
       "\n",
       "    .dataframe thead th {\n",
       "        text-align: right;\n",
       "    }\n",
       "</style>\n",
       "<table border=\"1\" class=\"dataframe\">\n",
       "  <thead>\n",
       "    <tr style=\"text-align: right;\">\n",
       "      <th></th>\n",
       "      <th>time_frame</th>\n",
       "      <th>train_config</th>\n",
       "      <th>infer_config</th>\n",
       "    </tr>\n",
       "  </thead>\n",
       "  <tbody>\n",
       "  </tbody>\n",
       "</table>\n",
       "</div>"
      ],
      "text/plain": [
       "Empty DataFrame\n",
       "Columns: [time_frame, train_config, infer_config]\n",
       "Index: []"
      ]
     },
     "execution_count": 26,
     "metadata": {},
     "output_type": "execute_result"
    }
   ],
   "source": [
    "import pandas as pd\n",
    "profile_log = pd.DataFrame(columns = ['time_frame', 'train_config', 'infer_config'])\n",
    "profile_log"
   ]
  },
  {
   "cell_type": "code",
   "execution_count": null,
   "id": "8e99556a",
   "metadata": {},
   "outputs": [],
   "source": [
    "AlexNet\n",
    "BNInception\n",
    "CaffeResNet101\n",
    "DenseNet121\n",
    "DenseNet161\n",
    "DenseNet169\n",
    "DenseNet201\n",
    "DenseNet201\n",
    "DualPathNet68\n",
    "DualPathNet92\n",
    "DualPathNet98\n",
    "DualPathNet107\n",
    "DualPathNet113\n",
    "FBResNet152\n",
    "InceptionResNetV2\n",
    "InceptionV3\n",
    "InceptionV4\n",
    "NASNet-A-Large\n",
    "NASNet-A-Mobile\n",
    "PNASNet-5-Large\n",
    "PolyNet\n",
    "ResNeXt101_32x4d\n",
    "ResNeXt101_64x4d\n",
    "ResNet101\n",
    "ResNet152\n",
    "ResNet18\n",
    "ResNet34\n",
    "ResNet50\n",
    "SENet154\n",
    "SE-ResNet50\n",
    "SE-ResNet101\n",
    "SE-ResNet152\n",
    "SE-ResNeXt50_32x4d\n",
    "SE-ResNeXt101_32x4d\n",
    "SqueezeNet1_0\n",
    "SqueezeNet1_1\n",
    "VGG11\n",
    "VGG13\n",
    "VGG16\n",
    "VGG19\n",
    "VGG11_BN\n",
    "VGG13_BN\n",
    "VGG16_BN\n",
    "VGG19_BN\n",
    "Xception"
   ]
  }
 ],
 "metadata": {
  "kernelspec": {
   "display_name": "Python 3 (ipykernel)",
   "language": "python",
   "name": "python3"
  },
  "language_info": {
   "codemirror_mode": {
    "name": "ipython",
    "version": 3
   },
   "file_extension": ".py",
   "mimetype": "text/x-python",
   "name": "python",
   "nbconvert_exporter": "python",
   "pygments_lexer": "ipython3",
   "version": "3.9.13"
  }
 },
 "nbformat": 4,
 "nbformat_minor": 5
}
