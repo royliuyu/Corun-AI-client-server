{
 "cells": [
  {
   "cell_type": "code",
   "execution_count": 7,
   "id": "45a0fc03",
   "metadata": {},
   "outputs": [
    {
     "data": {
      "text/plain": [
       "'request_rate:10,arch:yolov5s,train_model_name:deeplabv3_resnet50_8,device:cuda,image_size:224,comb_id:2models_yolov5s+deeplabv3_resnet50+resnet50+vgg16'"
      ]
     },
     "execution_count": 7,
     "metadata": {},
     "output_type": "execute_result"
    }
   ],
   "source": [
    "def dict2str(dictionary, seperator = ','):\n",
    "    assert len(seperator) == 1, \"Seperator must be type of character\"\n",
    "    string =''\n",
    "    for key, value in dictionary.items():\n",
    "        string += str(key)+':'+str(value)\n",
    "        string += seperator\n",
    "    return string [:-1]\n",
    "dd ={'request_rate': 10, 'arch': 'yolov5s', 'train_model_name': 'deeplabv3_resnet50_8', 'device': 'cuda', 'image_size': 224, 'comb_id': '2models_yolov5s+deeplabv3_resnet50+resnet50+vgg16'}\n",
    "cc= dict2str(dd)\n",
    "cc"
   ]
  },
  {
   "cell_type": "code",
   "execution_count": 14,
   "id": "a19d02bb",
   "metadata": {},
   "outputs": [
    {
     "data": {
      "text/plain": [
       "{'request_rate': 10,\n",
       " 'arch': 'yolov5s',\n",
       " 'train_model_name': 'deeplabv3_resnet50_8',\n",
       " 'device': 'cuda',\n",
       " 'image_size': 224,\n",
       " 'comb_id': '2models_yolov5s+deeplabv3_resnet50+resnet50+vgg16'}"
      ]
     },
     "execution_count": 14,
     "metadata": {},
     "output_type": "execute_result"
    }
   ],
   "source": [
    "import re\n",
    "def str2dict(string, seperator = ','):\n",
    "    assert len(seperator) == 1, \"Seperator must be type of character\"\n",
    "    arg ={}\n",
    "    arg_list = string.split(seperator)\n",
    "    arg_list\n",
    "    for s in arg_list:\n",
    "        key, val = s.split(':')\n",
    "        if re.match(r'.[0-9]+',val) : val = int(val)  # if is integer, then convert\n",
    "        arg[key]=val\n",
    "    return arg\n",
    "ss= 'request_rate:10,arch:yolov5s,train_model_name:deeplabv3_resnet50_8,device:cuda,image_size:224,comb_id:2models_yolov5s+deeplabv3_resnet50+resnet50+vgg16'\n",
    "d = str2dict(ss)\n",
    "d"
   ]
  },
  {
   "cell_type": "code",
   "execution_count": 5,
   "id": "bb64017f",
   "metadata": {},
   "outputs": [
    {
     "data": {
      "text/plain": [
       "''"
      ]
     },
     "execution_count": 5,
     "metadata": {},
     "output_type": "execute_result"
    }
   ],
   "source": [
    "a ='a'\n",
    "b='|'\n",
    "c= a+b\n",
    "d, f =  c.split('|')\n",
    "f"
   ]
  },
  {
   "cell_type": "code",
   "execution_count": 41,
   "id": "2edc7742",
   "metadata": {},
   "outputs": [
    {
     "data": {
      "text/plain": [
       "49"
      ]
     },
     "execution_count": 41,
     "metadata": {},
     "output_type": "execute_result"
    }
   ],
   "source": [
    "Received request from ('192.168.85.203', 50422) !\n",
    "{'request_rate': 20, 'arch': 'yolov5s', 'train_model_name': 'vgg16_64', 'device': 'cuda', 'image_size': 224}\n",
    "Traceback (most recent call last):\n",
    "  File \"/home/royliu/anaconda3/envs/tf/lib/python3.9/urllib/request.py\", line 1342, in do_open\n",
    "    h.request(req.get_method(), req.selector, req.data, headers,\n",
    "  File \"/home/royliu/anaconda3/envs/tf/lib/python3.9/http/client.py\", line 1255, in request\n",
    "    self._send_request(method, url, body, headers, encode_chunked)\n",
    "  File \"/home/royliu/anaconda3/envs/tf/lib/python3.9/http/client.py\", line 1301, in _send_request\n",
    "    self.endheaders(body, encode_chunked=encode_chunked)\n",
    "  File \"/home/royliu/anaconda3/envs/tf/lib/python3.9/http/client.py\", line 1250, in endheaders\n",
    "    self._send_output(message_body, encode_chunked=encode_chunked)\n",
    "  File \"/home/royliu/anaconda3/envs/tf/lib/python3.9/http/client.py\", line 1010, in _send_output\n",
    "    self.send(msg)\n",
    "  File \"/home/royliu/anaconda3/envs/tf/lib/python3.9/http/client.py\", line 950, in send\n",
    "    self.connect()\n",
    "  File \"/home/royliu/anaconda3/envs/tf/lib/python3.9/http/client.py\", line 1417, in connect\n",
    "    super().connect()\n",
    "  File \"/home/royliu/anaconda3/envs/tf/lib/python3.9/http/client.py\", line 921, in connect\n",
    "    self.sock = self._create_connection(\n",
    "  File \"/home/royliu/anaconda3/envs/tf/lib/python3.9/socket.py\", line 822, in create_connection\n",
    "    for res in getaddrinfo(host, port, 0, SOCK_STREAM):\n",
    "  File \"/home/royliu/anaconda3/envs/tf/lib/python3.9/socket.py\", line 953, in getaddrinfo\n",
    "    for res in _socket.getaddrinfo(host, port, family, type, proto, flags):\n",
    "socket.gaierror: [Errno -2] Name or service not known\n",
    "\n",
    "During handling of the above exception, another exception occurred:\n",
    "\n",
    "Traceback (most recent call last):\n",
    "  File \"/home/royliu/Dropbox/research/profile_training_inference_cowork/src/server.py\", line 220, in <module>\n",
    "    work()\n",
    "  File \"/home/royliu/Dropbox/research/profile_training_inference_cowork/src/server.py\", line 140, in work\n",
    "    model=load_model(model_name, device)\n",
    "  File \"/home/royliu/Dropbox/research/profile_training_inference_cowork/src/server.py\", line 35, in load_model\n",
    "    model = torch.hub.load('ultralytics/yolov5', model_name, pretrained=True, device=device_yolo)\n",
    "  File \"/home/royliu/anaconda3/envs/tf/lib/python3.9/site-packages/torch/hub.py\", line 539, in load\n",
    "    repo_or_dir = _get_cache_or_reload(repo_or_dir, force_reload, trust_repo, \"load\",\n",
    "  File \"/home/royliu/anaconda3/envs/tf/lib/python3.9/site-packages/torch/hub.py\", line 180, in _get_cache_or_reload\n",
    "    repo_owner, repo_name, ref = _parse_repo_info(github)\n",
    "  File \"/home/royliu/anaconda3/envs/tf/lib/python3.9/site-packages/torch/hub.py\", line 134, in _parse_repo_info\n",
    "    with urlopen(f\"https://github.com/{repo_owner}/{repo_name}/tree/main/\"):\n",
    "  File \"/home/royliu/anaconda3/envs/tf/lib/python3.9/urllib/request.py\", line 214, in urlopen\n",
    "    return opener.open(url, data, timeout)\n",
    "  File \"/home/royliu/anaconda3/envs/tf/lib/python3.9/urllib/request.py\", line 517, in open\n",
    "    response = self._open(req, data)\n",
    "  File \"/home/royliu/anaconda3/envs/tf/lib/python3.9/urllib/request.py\", line 534, in _open\n",
    "    result = self._call_chain(self.handle_open, protocol, protocol +\n",
    "  File \"/home/royliu/anaconda3/envs/tf/lib/python3.9/urllib/request.py\", line 494, in _call_chain\n",
    "    result = func(*args)\n",
    "  File \"/home/royliu/anaconda3/envs/tf/lib/python3.9/urllib/request.py\", line 1385, in https_open\n",
    "    return self.do_open(http.client.HTTPSConnection, req,\n",
    "  File \"/home/royliu/anaconda3/envs/tf/lib/python3.9/urllib/request.py\", line 1345, in do_open\n",
    "    raise URLError(err)\n",
    "urllib.error.URLError: <urlopen error [Errno -2] Name or service not known>\n",
    "\n",
    "Process finished with exit code 1\n"
   ]
  },
  {
   "cell_type": "code",
   "execution_count": 45,
   "id": "9a036ba1",
   "metadata": {
    "scrolled": true
   },
   "outputs": [
    {
     "data": {
      "text/plain": [
       "bytes"
      ]
     },
     "execution_count": 45,
     "metadata": {},
     "output_type": "execute_result"
    }
   ],
   "source": [
    "import pickle\n",
    "with open('../src/temp.txt', 'r', encoding='utf8') as f_read:\n",
    "    cont=f_read.read()\n",
    "len(cont)\n",
    "b= pickle.dumps(cont)\n",
    "type(b)"
   ]
  },
  {
   "cell_type": "code",
   "execution_count": 16,
   "id": "6555e362",
   "metadata": {},
   "outputs": [
    {
     "ename": "SyntaxError",
     "evalue": "EOL while scanning string literal (1289328947.py, line 1)",
     "output_type": "error",
     "traceback": [
      "\u001b[0;36m  Cell \u001b[0;32mIn[16], line 1\u001b[0;36m\u001b[0m\n\u001b[0;31m    b= b'[tensor([[3.19895e-01, 2.10755e-01, 6.12167e-01, 6.88284e-01, 8.49079e-01, 0.00000e+00],\u001b[0m\n\u001b[0m                                                                                                 ^\u001b[0m\n\u001b[0;31mSyntaxError\u001b[0m\u001b[0;31m:\u001b[0m EOL while scanning string literal\n"
     ]
    }
   ],
   "source": [
    "b= b'[tensor([[3.19895e-01, 2.10755e-01, 6.12167e-01, 6.88284e-01, 8.49079e-01, 0.00000e+00],\n",
    "        [1.83872e-01, 6.73620e-01, 2.89550e-01, 7.59785e-01, 8.43620e-01, 4.50000e+01],\n",
    "        [6.81212e-01, 2.49623e-01, 9.74082e-01, 7.66803e-01, 8.00091e-01, 0.00000e+00],\n",
    "        [1.00789e-01, 1.74949e-01, 1.95841e-01, 2.80167e-01, 7.84368e-01, 5.60000e+01],\n",
    "        [3.03511e-01, 7.67971e-01, 3.74118e-01, 8.51065e-01, 7.73125e-01, 4.10000e+01],\n",
    "        [8.30337e-01, 8.61173e-01, 9.08818e-01, 9.55344e-01, 7.65942e-01, 4.10000e+01],\n",
    "        [8.80384e-03, 2.67696e-01, 2.86574e-01, 7.80159e-01, 7.58283e-01, 0.00000e+00],\n",
    "        [7.10222e-01, 7.28612e-01, 7.81781e-01, 8.08013e-01, 7.48070e-01, 4.10000e+01],\n",
    "        [1.48747e-01, 8.63349e-01, 2.38800e-01, 9.65992e-01, 7.43953e-01, 4.10000e+01],\n",
    "        [2.98335e-01, 1.17804e-01, 3.70191e-01, 3.13111e-01, 6.94765e-01, 5.60000e+01],\n",
    "        [1.35326e-01, 7.41875e-01, 1.78463e-01, 8.79435e-01, 5.87701e-01, 3.90000e+01],\n",
    "        [2.35911e-01, 1.09258e-01, 3.07813e-01, 2.42515e-01, 5.08029e-01, 5.60000e+01],\n",
    "        [4.59026e-01, 6.22534e-01, 5.23210e-01, 6.88101e-01, 4.97891e-01, 4.10000e+01],\n",
    "        [1.70821e-02, 6.38707e-01, 1.00000e+00, 9.97612e-01, 4.81863e-01, 6.00000e+01],\n",
    "        [7.81059e-01, 7.77473e-01, 8.30054e-01, 8.47600e-01, 4.62272e-01, 4.10000e+01],\n",
    "        [7.11998e-01, 6.66108e-01, 8.12074e-01, 7.16549e-01, 4.61307e-01, 4.50000e+01],\n",
    "        [0.00000e+00, 7.94414e-01, 7.82535e-02, 9.05000e-01, 4.46771e-01, 4.50000e+01],\n",
    "        [4.36026e-01, 9.33807e-01, 5.19985e-01, 9.99563e-01, 4.43458e-01, 7.50000e+01],\n",
    "        [2.51384e-01, 7.51279e-01, 2.99152e-01, 8.74574e-01, 4.41025e-01, 4.10000e+01],\n",
    "        [6.77978e-01, 7.81152e-01, 7.24313e-01, 8.69577e-01, 3.71011e-01, 4.10000e+01],\n",
    "        [8.87325e-02, 8.74516e-01, 1.60888e-01, 9.64951e-01, 3.59459e-01, 4.40000e+01],\n",
    "        [9.05799e-01, 8.76259e-01, 1.00000e+00, 9.62592e-01, 3.43041e-01, 4.20000e+01],\n",
    "        [7.13893e-01, 6.64522e-01, 8.13141e-01, 7.29349e-01, 3.13869e-01, 4.10000e+01],\n",
    "        [8.20348e-01, 8.65972e-01, 9.07467e-01, 9.61036e-01, 3.02125e-01, 4.40000e+01],\n",
    "        [7.88150e-02, 7.69112e-01, 1.32243e-01, 8.07561e-01, 2.80431e-01, 4.40000e+01],\n",
    "        [9.04682e-01, 8.73040e-01, 1.00000e+00, 9.64999e-01, 2.67217e-01, 4.40000e+01],\n",
    "        [3.90215e-01, 6.87151e-01, 4.17165e-01, 7.32835e-01, 2.67073e-01, 4.20000e+01],\n",
    "        [7.81641e-01, 2.46147e-01, 8.49565e-01, 3.23317e-01, 2.63408e-01, 1.30000e+01],\n",
    "        [5.19376e-01, 9.40177e-01, 6.58673e-01, 1.00000e+00, 2.51655e-01, 7.50000e+01]], device='cuda:0')], Latency: 12.997152328491211 ms.'"
   ]
  },
  {
   "cell_type": "code",
   "execution_count": 66,
   "id": "d5dede7c",
   "metadata": {},
   "outputs": [
    {
     "data": {
      "text/plain": [
       "'arch:yolov5n,device:cuda,image_size:224'"
      ]
     },
     "execution_count": 66,
     "metadata": {},
     "output_type": "execute_result"
    }
   ],
   "source": [
    "def dict2str(dictionary, seperator = ','):\n",
    "    assert len(seperator) == 1, \"Seperator must be type of character\"\n",
    "    string =''\n",
    "    for key, value in dictionary.items():\n",
    "        string += str(key)+':'+str(value)\n",
    "        string += seperator\n",
    "    return string [:-1]\n",
    "a = dict2str(args)\n",
    "a"
   ]
  },
  {
   "cell_type": "code",
   "execution_count": 70,
   "id": "a5dfd4a2",
   "metadata": {},
   "outputs": [
    {
     "data": {
      "text/plain": [
       "{'arch': 'yolov5n', 'device': 'cuda', 'image_size': 224}"
      ]
     },
     "execution_count": 70,
     "metadata": {},
     "output_type": "execute_result"
    }
   ],
   "source": [
    "import re\n",
    "def str2dict(string, seperator = ','):\n",
    "    assert len(seperator) == 1, \"Seperator must be type of character\"\n",
    "    arg ={}\n",
    "    arg_list = string.split(seperator)\n",
    "    arg_list\n",
    "    for s in arg_list:\n",
    "        key, val = s.split(':')\n",
    "        if re.match(r'[0-9]+',val) : val = int(val)  # if is int, convert\n",
    "        arg[key]=val\n",
    "    return arg\n",
    "arg= str2dict(a,',')\n",
    "arg"
   ]
  }
 ],
 "metadata": {
  "kernelspec": {
   "display_name": "Python 3 (ipykernel)",
   "language": "python",
   "name": "python3"
  },
  "language_info": {
   "codemirror_mode": {
    "name": "ipython",
    "version": 3
   },
   "file_extension": ".py",
   "mimetype": "text/x-python",
   "name": "python",
   "nbconvert_exporter": "python",
   "pygments_lexer": "ipython3",
   "version": "3.9.0"
  }
 },
 "nbformat": 4,
 "nbformat_minor": 5
}
