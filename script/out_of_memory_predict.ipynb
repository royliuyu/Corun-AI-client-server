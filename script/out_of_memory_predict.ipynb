{
 "cells": [
  {
   "cell_type": "code",
   "execution_count": 1,
   "id": "ab3a6cf2",
   "metadata": {},
   "outputs": [],
   "source": [
    "from torchstat import stat\n"
   ]
  },
  {
   "cell_type": "code",
   "execution_count": 2,
   "id": "4f499572",
   "metadata": {},
   "outputs": [],
   "source": [
    "cnn_model_list = ['alexnet','densenet201','mobilenet_v2','resnet152','shufflenet_v2_x1_0', 'squeezenet1_0', 'vgg16']\n",
    "yolo_model_list = ['yolov5s','yolov5x']\n",
    "deeplab_model_list = ['deeplabv3_resnet50', 'deeplabv3_mobilenet_v3_large']\n",
    "model_list = cnn_model_list + yolo_model_list + deeplab_model_list"
   ]
  }
 ],
 "metadata": {
  "kernelspec": {
   "display_name": "Python 3 (ipykernel)",
   "language": "python",
   "name": "python3"
  },
  "language_info": {
   "codemirror_mode": {
    "name": "ipython",
    "version": 3
   },
   "file_extension": ".py",
   "mimetype": "text/x-python",
   "name": "python",
   "nbconvert_exporter": "python",
   "pygments_lexer": "ipython3",
   "version": "3.8.15"
  }
 },
 "nbformat": 4,
 "nbformat_minor": 5
}
