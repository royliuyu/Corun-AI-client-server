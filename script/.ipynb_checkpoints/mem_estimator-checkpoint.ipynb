{
 "cells": [
  {
   "cell_type": "code",
   "execution_count": 20,
   "id": "0e36b4df",
   "metadata": {},
   "outputs": [],
   "source": [
    "import torch\n",
    "import torch.nn as nn\n",
    "from torch.autograd import Variable\n",
    "import numpy as np\n",
    "\n",
    "class Model(nn.Module):\n",
    "    \n",
    "    def __init__(self):\n",
    "        super(Model,self).__init__()\n",
    "        \n",
    "        self.conv0 = nn.Conv2d(1, 16, kernel_size=3, padding=5)\n",
    "        self.conv1 = nn.Conv2d(16, 32, kernel_size=3)\n",
    "\n",
    "    def forward(self, x):\n",
    "        h = self.conv0(x)\n",
    "        h = self.conv1(h)\n",
    "        return h\n",
    "    \n",
    "model = Model()"
   ]
  },
  {
   "cell_type": "code",
   "execution_count": 21,
   "id": "e40ca742",
   "metadata": {},
   "outputs": [],
   "source": [
    "import torch\n",
    "import torch.nn as nn\n",
    "from torch.autograd import Variable\n",
    "import numpy as np\n",
    "\n",
    "class SizeEstimator(object):\n",
    "\n",
    "    def __init__(self, model, input_size=(1,1,32,32), bits=32):\n",
    "#     def __init__(self, model, input_size=(3,224,224), bits=32):\n",
    "        '''\n",
    "        Estimates the size of PyTorch models in memory\n",
    "        for a given input size\n",
    "        '''\n",
    "        self.model = model\n",
    "        self.input_size = input_size\n",
    "        self.bits = 32\n",
    "        return\n",
    "\n",
    "    def get_parameter_sizes(self):\n",
    "        '''Get sizes of all parameters in `model`'''\n",
    "        mods = list(model.modules())\n",
    "        for i in range(1,len(mods)):\n",
    "            m = mods[i]\n",
    "            p = list(m.parameters())\n",
    "            sizes = []\n",
    "            for j in range(len(p)):\n",
    "                sizes.append(np.array(p[j].size()))\n",
    "\n",
    "        self.param_sizes = sizes\n",
    "        return\n",
    "\n",
    "    def get_output_sizes(self):\n",
    "        '''Run sample input through each layer to get output sizes'''\n",
    "        input_ = Variable(torch.FloatTensor(*self.input_size), volatile=True)\n",
    "        mods = list(model.modules())\n",
    "        out_sizes = []\n",
    "        for i in range(1, len(mods)):\n",
    "            m = mods[i]\n",
    "            out = m(input_)\n",
    "            out_sizes.append(np.array(out.size()))\n",
    "            input_ = out\n",
    "\n",
    "        self.out_sizes = out_sizes\n",
    "        return\n",
    "\n",
    "    def calc_param_bits(self):\n",
    "        '''Calculate total number of bits to store `model` parameters'''\n",
    "        total_bits = 0\n",
    "        for i in range(len(self.param_sizes)):\n",
    "            s = self.param_sizes[i]\n",
    "            bits = np.prod(np.array(s))*self.bits\n",
    "            total_bits += bits\n",
    "        self.param_bits = total_bits\n",
    "        return\n",
    "\n",
    "    def calc_forward_backward_bits(self):\n",
    "        '''Calculate bits to store forward and backward pass'''\n",
    "        total_bits = 0\n",
    "        for i in range(len(self.out_sizes)):\n",
    "            s = self.out_sizes[i]\n",
    "            bits = np.prod(np.array(s))*self.bits\n",
    "            total_bits += bits\n",
    "        # multiply by 2 for both forward AND backward\n",
    "        self.forward_backward_bits = (total_bits*2)\n",
    "        return\n",
    "\n",
    "    def calc_input_bits(self):\n",
    "        '''Calculate bits to store input'''\n",
    "        self.input_bits = np.prod(np.array(self.input_size))*self.bits\n",
    "        return\n",
    "\n",
    "    def estimate_size(self):\n",
    "        '''Estimate model size in memory in megabytes and bits'''\n",
    "        self.get_parameter_sizes()\n",
    "        self.get_output_sizes()\n",
    "        self.calc_param_bits()\n",
    "        self.calc_forward_backward_bits()\n",
    "        self.calc_input_bits()\n",
    "        total = self.param_bits + self.forward_backward_bits + self.input_bits\n",
    "\n",
    "        total_megabytes = (total/8)/(1024**2)\n",
    "        return total_megabytes, total"
   ]
  },
  {
   "cell_type": "code",
   "execution_count": 22,
   "id": "dc3a0959",
   "metadata": {},
   "outputs": [
    {
     "name": "stdout",
     "output_type": "stream",
     "text": [
      "(0.5694580078125, 4776960)\n"
     ]
    },
    {
     "name": "stderr",
     "output_type": "stream",
     "text": [
      "/tmp/ipykernel_33073/14781898.py:34: UserWarning: volatile was removed and now has no effect. Use `with torch.no_grad():` instead.\n",
      "  input_ = Variable(torch.FloatTensor(*self.input_size), volatile=True)\n"
     ]
    }
   ],
   "source": [
    "se = SizeEstimator(model)\n",
    "print(se.estimate_size())"
   ]
  },
  {
   "cell_type": "code",
   "execution_count": 23,
   "id": "3cc34ffe",
   "metadata": {},
   "outputs": [
    {
     "name": "stderr",
     "output_type": "stream",
     "text": [
      "/tmp/ipykernel_33073/14781898.py:34: UserWarning: volatile was removed and now has no effect. Use `with torch.no_grad():` instead.\n",
      "  input_ = Variable(torch.FloatTensor(*self.input_size), volatile=True)\n"
     ]
    },
    {
     "name": "stdout",
     "output_type": "stream",
     "text": [
      "(408.2833251953125, 3424928768)\n"
     ]
    }
   ],
   "source": [
    "se = SizeEstimator(model, input_size=(16,1,256,256))\n",
    "print(se.estimate_size())"
   ]
  },
  {
   "cell_type": "code",
   "execution_count": null,
   "id": "6f40f886",
   "metadata": {},
   "outputs": [],
   "source": []
  },
  {
   "cell_type": "code",
   "execution_count": null,
   "id": "5aa72264",
   "metadata": {},
   "outputs": [],
   "source": []
  },
  {
   "cell_type": "code",
   "execution_count": 10,
   "id": "3c0cd57f",
   "metadata": {},
   "outputs": [
    {
     "name": "stdout",
     "output_type": "stream",
     "text": [
      "alexnet\n"
     ]
    },
    {
     "name": "stderr",
     "output_type": "stream",
     "text": [
      "/home/royliu/anaconda3/envs/tf/lib/python3.8/site-packages/torchvision/models/_utils.py:208: UserWarning: The parameter 'pretrained' is deprecated since 0.13 and may be removed in the future, please use 'weights' instead.\n",
      "  warnings.warn(\n",
      "/home/royliu/anaconda3/envs/tf/lib/python3.8/site-packages/torchvision/models/_utils.py:223: UserWarning: Arguments other than a weight enum or `None` for 'weights' are deprecated since 0.13 and may be removed in the future. The current behavior is equivalent to passing `weights=AlexNet_Weights.IMAGENET1K_V1`. You can also use `weights=AlexNet_Weights.DEFAULT` to get the most up-to-date weights.\n",
      "  warnings.warn(msg)\n"
     ]
    },
    {
     "name": "stdout",
     "output_type": "stream",
     "text": [
      "[MAdd]: AdaptiveAvgPool2d is not supported!\n",
      "[Flops]: AdaptiveAvgPool2d is not supported!\n",
      "[Memory]: AdaptiveAvgPool2d is not supported!\n",
      "[MAdd]: AdaptiveAvgPool2d is not supported!\n",
      "[Flops]: AdaptiveAvgPool2d is not supported!\n",
      "[Memory]: AdaptiveAvgPool2d is not supported!\n",
      "[MAdd]: Dropout is not supported!\n",
      "[Flops]: Dropout is not supported!\n",
      "[Memory]: Dropout is not supported!\n",
      "[MAdd]: Dropout is not supported!\n",
      "[Flops]: Dropout is not supported!\n",
      "[Memory]: Dropout is not supported!\n",
      "[MAdd]: Dropout is not supported!\n",
      "[Flops]: Dropout is not supported!\n",
      "[Memory]: Dropout is not supported!\n",
      "[MAdd]: Dropout is not supported!\n",
      "[Flops]: Dropout is not supported!\n",
      "[Memory]: Dropout is not supported!\n",
      "        module name  input shape output shape      params memory(MB)             MAdd          Flops   MemRead(B)  MemWrite(B) duration[%]    MemR+W(B)\n",
      "0        features.0    3 224 224   64  55  55     23296.0       0.74    140,553,600.0   70,470,400.0     695296.0     774400.0       6.59%    1469696.0\n",
      "1        features.1   64  55  55   64  55  55         0.0       0.74        193,600.0      193,600.0     774400.0     774400.0       1.68%    1548800.0\n",
      "2        features.2   64  55  55   64  27  27         0.0       0.18        373,248.0      193,600.0     774400.0     186624.0       2.09%     961024.0\n",
      "3        features.3   64  27  27  192  27  27    307392.0       0.53    447,897,600.0  224,088,768.0    1416192.0     559872.0      14.00%    1976064.0\n",
      "4        features.4  192  27  27  192  27  27         0.0       0.53        139,968.0      139,968.0     559872.0     559872.0       2.25%    1119744.0\n",
      "5        features.5  192  27  27  192  13  13         0.0       0.12        259,584.0      139,968.0     559872.0     129792.0       2.54%     689664.0\n",
      "6        features.6  192  13  13  384  13  13    663936.0       0.25    224,280,576.0  112,205,184.0    2785536.0     259584.0      11.13%    3045120.0\n",
      "7        features.7  384  13  13  384  13  13         0.0       0.25         64,896.0       64,896.0     259584.0     259584.0       1.71%     519168.0\n",
      "8        features.8  384  13  13  256  13  13    884992.0       0.17    299,040,768.0  149,563,648.0    3799552.0     173056.0      13.67%    3972608.0\n",
      "9        features.9  256  13  13  256  13  13         0.0       0.17         43,264.0       43,264.0     173056.0     173056.0       2.22%     346112.0\n",
      "10      features.10  256  13  13  256  13  13    590080.0       0.17    199,360,512.0   99,723,520.0    2533376.0     173056.0      11.68%    2706432.0\n",
      "11      features.11  256  13  13  256  13  13         0.0       0.17         43,264.0       43,264.0     173056.0     173056.0       2.20%     346112.0\n",
      "12      features.12  256  13  13  256   6   6         0.0       0.04         73,728.0       43,264.0     173056.0      36864.0       2.30%     209920.0\n",
      "13          avgpool  256   6   6  256   6   6         0.0       0.04              0.0            0.0          0.0          0.0       2.40%          0.0\n",
      "14     classifier.0         9216         9216         0.0       0.04              0.0            0.0          0.0          0.0       0.19%          0.0\n",
      "15     classifier.1         9216         4096  37752832.0       0.02     75,493,376.0   37,748,736.0  151048192.0      16384.0      13.51%  151064576.0\n",
      "16     classifier.2         4096         4096         0.0       0.02          4,096.0        4,096.0      16384.0      16384.0       0.19%      32768.0\n",
      "17     classifier.3         4096         4096         0.0       0.02              0.0            0.0          0.0          0.0       0.18%          0.0\n",
      "18     classifier.4         4096         4096  16781312.0       0.02     33,550,336.0   16,777,216.0   67141632.0      16384.0       6.42%   67158016.0\n",
      "19     classifier.5         4096         4096         0.0       0.02          4,096.0        4,096.0      16384.0      16384.0       0.19%      32768.0\n",
      "20     classifier.6         4096         1000   4097000.0       0.00      8,191,000.0    4,096,000.0   16404384.0       4000.0       2.88%   16408384.0\n",
      "total                                          61100840.0       4.19  1,429,567,512.0  715,543,488.0   16404384.0       4000.0     100.00%  253606976.0\n",
      "=======================================================================================================================================================\n",
      "Total params: 61,100,840\n",
      "-------------------------------------------------------------------------------------------------------------------------------------------------------\n",
      "Total memory: 4.19MB\n",
      "Total MAdd: 1.43GMAdd\n",
      "Total Flops: 715.54MFlops\n",
      "Total MemR+W: 241.86MB\n",
      "\n"
     ]
    },
    {
     "name": "stderr",
     "output_type": "stream",
     "text": [
      "/home/royliu/anaconda3/envs/tf/lib/python3.8/site-packages/torchstat/reporter.py:63: FutureWarning: The frame.append method is deprecated and will be removed from pandas in a future version. Use pandas.concat instead.\n",
      "  df = df.append(total_df)\n"
     ]
    }
   ],
   "source": [
    "from torchstat import stat\n",
    "from torchsummary import summary\n",
    "from torchvision import models\n",
    "import torch\n",
    "\n",
    "\n",
    "cnn_model_list = ['alexnet']\n",
    "\n",
    "for model_name in cnn_model_list:\n",
    "    print(model_name)\n",
    "    model_func = 'models.' + model_name\n",
    "    model = eval(model_func)(pretrained=True)\n",
    "    stat(model,(3,224,224))\n",
    "#     summary(model,(3,224,224))\n",
    "\n"
   ]
  }
 ],
 "metadata": {
  "kernelspec": {
   "display_name": "Python 3 (ipykernel)",
   "language": "python",
   "name": "python3"
  },
  "language_info": {
   "codemirror_mode": {
    "name": "ipython",
    "version": 3
   },
   "file_extension": ".py",
   "mimetype": "text/x-python",
   "name": "python",
   "nbconvert_exporter": "python",
   "pygments_lexer": "ipython3",
   "version": "3.8.15"
  }
 },
 "nbformat": 4,
 "nbformat_minor": 5
}
