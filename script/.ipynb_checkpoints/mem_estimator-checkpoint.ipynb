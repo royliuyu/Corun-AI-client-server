{
 "cells": [
  {
   "cell_type": "code",
   "execution_count": 66,
   "id": "d5dede7c",
   "metadata": {},
   "outputs": [
    {
     "data": {
      "text/plain": [
       "'arch:yolov5n,device:cuda,image_size:224'"
      ]
     },
     "execution_count": 66,
     "metadata": {},
     "output_type": "execute_result"
    }
   ],
   "source": [
    "def dict2str(dictionary, seperator = ','):\n",
    "    assert len(seperator) == 1, \"Seperator must be type of character\"\n",
    "    string =''\n",
    "    for key, value in dictionary.items():\n",
    "        string += str(key)+':'+str(value)\n",
    "        string += seperator\n",
    "    return string [:-1]\n",
    "a = dict2str(args)\n",
    "a"
   ]
  },
  {
   "cell_type": "code",
   "execution_count": 70,
   "id": "a5dfd4a2",
   "metadata": {},
   "outputs": [
    {
     "data": {
      "text/plain": [
       "{'arch': 'yolov5n', 'device': 'cuda', 'image_size': 224}"
      ]
     },
     "execution_count": 70,
     "metadata": {},
     "output_type": "execute_result"
    }
   ],
   "source": [
    "import re\n",
    "def str2dict(string, seperator = ','):\n",
    "    assert len(seperator) == 1, \"Seperator must be type of character\"\n",
    "    arg ={}\n",
    "    arg_list = string.split(seperator)\n",
    "    arg_list\n",
    "    for s in arg_list:\n",
    "        key, val = s.split(':')\n",
    "        if re.match(r'[0-9]+',val) : val = int(val)  # if is int, convert\n",
    "        arg[key]=val\n",
    "    return arg\n",
    "arg= str2dict(a,',')\n",
    "arg"
   ]
  }
 ],
 "metadata": {
  "kernelspec": {
   "display_name": "Python 3 (ipykernel)",
   "language": "python",
   "name": "python3"
  },
  "language_info": {
   "codemirror_mode": {
    "name": "ipython",
    "version": 3
   },
   "file_extension": ".py",
   "mimetype": "text/x-python",
   "name": "python",
   "nbconvert_exporter": "python",
   "pygments_lexer": "ipython3",
   "version": "3.8.15"
  }
 },
 "nbformat": 4,
 "nbformat_minor": 5
}
