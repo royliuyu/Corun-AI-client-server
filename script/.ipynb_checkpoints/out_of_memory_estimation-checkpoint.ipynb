{
 "cells": [
  {
   "cell_type": "markdown",
   "id": "422b290c",
   "metadata": {},
   "source": [
    "### GPU memory consumption\n",
    "- Weight tensor:  model's\n",
    "- Output tensor (feature maps)  : image size, batch size\n",
    "- Ephemeral tensor: Temporary tensor, e.g. cuDNN, operators of 𝐶𝑜𝑛𝑣2𝑑, 𝐴𝑣𝑔𝑃𝑜𝑜𝑙2𝑑, 𝐿𝑖𝑛𝑒𝑎𝑟, etc\n",
    "- Resident buffer : e.g. CUDA context\n",
    "\n",
    " - M = W + O + ER\n",
    "\n",
    "#### formula\n",
    " - W = parameter number * 4 /1024/1024\n",
    " - O = batch size x $\\sum_{i=1}^n O_{layer_i}$ \n",
    "  \n",
    "  &emsp;= batch size x $ \\alpha$ * h * w \n",
    " \n",
    " e.g. for \n",
    " vgg16 training, image size: 3 X 224 X224, batch size 128 :\n",
    "     - W = 138357544 * 4 /1024/1024 = 527.79 MB\n",
    "     - O = 128 x 2 x 0.00109 x 224 x 224  = 14001.10 MB  (2 means forward + backward propagation)\n",
    "     - ER = ?\n",
    "  \n",
    "      **total memory = 14528.89 +  ER MB**\n",
    " \n",
    " "
   ]
  }
 ],
 "metadata": {
  "kernelspec": {
   "display_name": "Python 3 (ipykernel)",
   "language": "python",
   "name": "python3"
  },
  "language_info": {
   "codemirror_mode": {
    "name": "ipython",
    "version": 3
   },
   "file_extension": ".py",
   "mimetype": "text/x-python",
   "name": "python",
   "nbconvert_exporter": "python",
   "pygments_lexer": "ipython3",
   "version": "3.8.15"
  }
 },
 "nbformat": 4,
 "nbformat_minor": 5
}
