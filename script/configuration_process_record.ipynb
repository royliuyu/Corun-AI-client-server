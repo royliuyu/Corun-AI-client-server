{
 "cells": [
  {
   "cell_type": "markdown",
   "id": "b9b7c6d5",
   "metadata": {},
   "source": [
    "## models in torchvision.models:\n",
    " - inception_v3:\n",
    "    - RuntimeError: Calculated padded input size per channel: (3 x 3). Kernel size: (5 x 5). Kernel size can't be greater than actual input size\n",
    "\n",
    " - googlenet:\n",
    "     - AttributeError: 'GoogLeNetOutputs' object has no attribute 'log_softmax'"
   ]
  },
  {
   "cell_type": "code",
   "execution_count": 2,
   "id": "b80764c7",
   "metadata": {},
   "outputs": [],
   "source": [
    "'''\n",
    "https://pytorch.org/vision/stable/models.html \n",
    "'''\n",
    "model_list_all = ['alexnet', 'convnext_base', 'densenet121','densenet201','efficientnet_v2_l', \\\n",
    "                  'googlenet','inception_v3','mnasnet0_5','mobilenet_v2','mobilenet_v3_small',\\\n",
    "                  'regnet_y_400mf','resnet18','resnet50', 'resnet152','shufflenet_v2_x1_0', \\\n",
    "                  'squeezenet1_0', 'squeezenet1_1','vgg11', 'vgg16', 'vgg19','vit_b_16']\n",
    "\n"
   ]
  },
  {
   "cell_type": "code",
   "execution_count": 21,
   "id": "6e1c3f08",
   "metadata": {},
   "outputs": [
    {
     "data": {
      "text/plain": [
       "'[{\"arch\": \"alexnet\", \"workers\": 1, \"batch_size\": 1, \"image_size\": 224, \"device\": \"cuda\"}, {\"arch\": \"mobilenet_v2\", \"workers\": 1, \"batch_size\": 1, \"image_size\": 224, \"device\": \"cuda\"}, {\"arch\": \"resnet152\", \"workers\": 1, \"batch_size\": 1, \"image_size\": 224, \"device\": \"cuda\"}, {\"arch\": \"vgg16\", \"workers\": 1, \"batch_size\": 1, \"image_size\": 224, \"device\": \"cuda\"}]'"
      ]
     },
     "execution_count": 21,
     "metadata": {},
     "output_type": "execute_result"
    }
   ],
   "source": [
    "import json\n",
    "args_train, args_infer = [] ,[]\n",
    "config_list = ['alexnet','densenet201','mobilenet_v2','resnet152','shufflenet_v2_x1_0', 'squeezenet1_0', 'vgg16']\n",
    "\n",
    "\n",
    "# training\n",
    "img_size_list = [224]\n",
    "batch_size_list_train = [64,128,256,512,1024]\n",
    "train_config_list = config_list\n",
    "for image_size in img_size_list:\n",
    "    for model in train_config_list:\n",
    "        for batch_size in batch_size_list_train:\n",
    "            new_args = {'arch': model,'workers': 1, 'epochs': 3, 'batch_size': batch_size, 'image_size':image_size, 'device': 'cuda'}\n",
    "            args_train.append(new_args)\n",
    "\n",
    "# infering   \n",
    "img_size_list = [224]\n",
    "batch_size_list_infer = [1]\n",
    "infer_config_list = ['alexnet','mobilenet_v2','resnet152', 'vgg16']\n",
    "for image_size in img_size_list:\n",
    "    for model in infer_config_list:\n",
    "        for batch_size in batch_size_list_infer:\n",
    "            new_args = {'arch': model,'workers': 1, 'batch_size': 1, 'image_size':image_size, 'device': 'cuda'}\n",
    "            args_infer.append(new_args)\n",
    "        \n",
    "tr = json.dumps(args_train)\n",
    "inf= json.dumps(args_infer)\n",
    "inf"
   ]
  },
  {
   "cell_type": "markdown",
   "id": "0667fbc5",
   "metadata": {},
   "source": [
    "## Experiments record:\n",
    "### by 12_21_2022 :\n",
    "\n",
    "    - training\n",
    "            - img_size_list = [224]\n",
    "            - batch_size_list = [64, 128,256,512]\n",
    "            - config_list = ['alexnet','densenet201','mobilenet_v2','resnet152','shufflenet_v2_x1_0', 'squeezenet1_0', 'vgg16']\n",
    "    - infering   \n",
    "            - img_size_list = [224]\n",
    "            - batch_size_list = [1]\n",
    "            - config_list = ['alexnet','mobilenet_v2','resnet152', 'vgg16']\n",
    "\n",
    "\n",
    "### by 12_22_2022 :\n",
    "\n",
    "    - training\n",
    "            - img_size_list = [224]\n",
    "            - batch_size_list = [1024]\n",
    "            - config_list = ['alexnet','densenet201','mobilenet_v2','resnet152','shufflenet_v2_x1_0', 'squeezenet1_0', 'vgg16']\n",
    "    - infering   \n",
    "            - img_size_list = [224]\n",
    "            - batch_size_list = [1]\n",
    "            - config_list = ['alexnet']\n"
   ]
  },
  {
   "cell_type": "code",
   "execution_count": null,
   "id": "7567140a",
   "metadata": {},
   "outputs": [],
   "source": []
  },
  {
   "cell_type": "code",
   "execution_count": null,
   "id": "99e64ac6",
   "metadata": {},
   "outputs": [],
   "source": []
  },
  {
   "cell_type": "code",
   "execution_count": 19,
   "id": "973aeb4b",
   "metadata": {},
   "outputs": [
    {
     "data": {
      "text/plain": [
       "'122415'"
      ]
     },
     "execution_count": 19,
     "metadata": {},
     "output_type": "execute_result"
    }
   ],
   "source": [
    "import time\n",
    "def date_time():\n",
    "    s_l = time.localtime(time.time())\n",
    "    date = time.strftime(\"%Y%m%d\", s_l)\n",
    "    tm = time.strftime(\"%H%M%S\", s_l)\n",
    "    # print(date, tm )\n",
    "    return date, tm\n",
    "\n",
    "date, tm = date_time()\n",
    "tm\n"
   ]
  },
  {
   "cell_type": "markdown",
   "id": "15258615",
   "metadata": {},
   "source": [
    "## Others"
   ]
  },
  {
   "cell_type": "code",
   "execution_count": 22,
   "id": "4c3621fe",
   "metadata": {},
   "outputs": [
    {
     "data": {
      "text/plain": [
       "36"
      ]
     },
     "execution_count": 22,
     "metadata": {},
     "output_type": "execute_result"
    }
   ],
   "source": [
    "file = 'config.json'\n",
    "with open(file) as f:\n",
    "    config = json.load(f)\n",
    "args_train, args_infer= config['train'],  config['infer']\n",
    "len(args_train)"
   ]
  }
 ],
 "metadata": {
  "kernelspec": {
   "display_name": "Python 3 (ipykernel)",
   "language": "python",
   "name": "python3"
  },
  "language_info": {
   "codemirror_mode": {
    "name": "ipython",
    "version": 3
   },
   "file_extension": ".py",
   "mimetype": "text/x-python",
   "name": "python",
   "nbconvert_exporter": "python",
   "pygments_lexer": "ipython3",
   "version": "3.8.0"
  }
 },
 "nbformat": 4,
 "nbformat_minor": 5
}
